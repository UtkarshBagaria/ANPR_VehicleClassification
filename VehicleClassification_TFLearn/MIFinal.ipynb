{
  "nbformat": 4,
  "nbformat_minor": 0,
  "metadata": {
    "colab": {
      "provenance": []
    },
    "kernelspec": {
      "name": "python3",
      "display_name": "Python 3"
    },
    "language_info": {
      "name": "python"
    },
    "accelerator": "GPU",
    "gpuClass": "standard"
  },
  "cells": [
    {
      "cell_type": "code",
      "execution_count": null,
      "metadata": {
        "id": "9HZ8W0AMKIcF"
      },
      "outputs": [],
      "source": [
        "from __future__ import division, print_function, absolute_import\n"
      ]
    },
    {
      "cell_type": "code",
      "source": [
        "#!pip install tflearn\n",
        "#!pip install tensorflow\n",
        "#!pip install pyyaml h5py"
      ],
      "metadata": {
        "id": "SmNlgAsRK5zF"
      },
      "execution_count": null,
      "outputs": []
    },
    {
      "cell_type": "code",
      "source": [
        "from google.colab import drive\n",
        "drive.mount('/content/drive')"
      ],
      "metadata": {
        "colab": {
          "base_uri": "https://localhost:8080/"
        },
        "id": "2M6zJ-V1QzgC",
        "outputId": "d4ce30b9-65c5-47fd-f467-feb84e935cbb"
      },
      "execution_count": null,
      "outputs": [
        {
          "output_type": "stream",
          "name": "stdout",
          "text": [
            "Drive already mounted at /content/drive; to attempt to forcibly remount, call drive.mount(\"/content/drive\", force_remount=True).\n"
          ]
        }
      ]
    },
    {
      "cell_type": "code",
      "source": [
        "import tflearn\n",
        "\n",
        "from tflearn.data_utils import shuffle, to_categorical\n",
        "from tflearn.layers.core import input_data, dropout, fully_connected\n",
        "from tflearn.layers.conv import conv_2d, max_pool_2d\n",
        "from tflearn.layers.estimator import regression\n",
        "from tflearn.data_preprocessing import ImagePreprocessing\n",
        "from tflearn.data_augmentation import ImageAugmentation\n",
        "from sklearn.model_selection import train_test_split\n",
        "from tensorflow.python.framework import ops"
      ],
      "metadata": {
        "id": "drnYUuxvKRE_",
        "colab": {
          "base_uri": "https://localhost:8080/"
        },
        "outputId": "8c5f251d-fccb-4441-fe8c-4b3ba1956e24"
      },
      "execution_count": null,
      "outputs": [
        {
          "output_type": "stream",
          "name": "stderr",
          "text": [
            "WARNING:tensorflow:From /usr/local/lib/python3.7/dist-packages/tensorflow/python/compat/v2_compat.py:107: disable_resource_variables (from tensorflow.python.ops.variable_scope) is deprecated and will be removed in a future version.\n",
            "Instructions for updating:\n",
            "non-resource variables are not supported in the long term\n"
          ]
        }
      ]
    },
    {
      "cell_type": "code",
      "source": [
        "# load test images\n",
        "from tflearn.data_utils import image_preloader\n",
        "import numpy as np\n",
        "# Load path/class_id image file:\n",
        "dataset_file = '/content/drive/MyDrive/MI/training/dataset.txt'"
      ],
      "metadata": {
        "id": "71fQ3yWrKSo4"
      },
      "execution_count": null,
      "outputs": []
    },
    {
      "cell_type": "code",
      "source": [
        "image, label = image_preloader(dataset_file, image_shape=(100, 100), mode='file',\n",
        "                       categorical_labels=True, normalize=True,\n",
        "                       files_extension=['.jpg', '.png'], filter_channel=True)\n",
        "image = np.array(image)\n",
        "label = np.array(label)\n",
        "\n",
        "X_train,X_test,y_train,y_test = train_test_split(image,label,test_size=0.2)"
      ],
      "metadata": {
        "id": "D60uyUEuKUcO"
      },
      "execution_count": null,
      "outputs": []
    },
    {
      "cell_type": "code",
      "source": [
        "# Real-time data preprocessing\n",
        "img_prep = ImagePreprocessing()\n",
        "img_prep.add_featurewise_zero_center()\n",
        "img_prep.add_featurewise_stdnorm()\n"
      ],
      "metadata": {
        "id": "ioC6Qq5_KU3o"
      },
      "execution_count": null,
      "outputs": []
    },
    {
      "cell_type": "code",
      "source": [
        "# Real-time data augmentation\n",
        "img_aug = ImageAugmentation()\n",
        "img_aug.add_random_flip_leftright()\n",
        "img_aug.add_random_rotation(max_angle=25.)"
      ],
      "metadata": {
        "id": "tnt1cSfOKWI6"
      },
      "execution_count": null,
      "outputs": []
    },
    {
      "cell_type": "code",
      "source": [
        "# Convolutional network building\n",
        "## To Do.\n",
        "    ## Define your network here\n",
        "network = input_data(shape=[None, 100, 100, 3],\n",
        "                     data_preprocessing=img_prep,\n",
        "                     data_augmentation=img_aug)\n",
        "network = conv_2d(network, 64, 3, activation='relu')\n",
        "network = max_pool_2d(network, 2)\n",
        "network = conv_2d(network, 32, 3, activation='relu')\n",
        "network = max_pool_2d(network, 2)\n",
        "network = conv_2d(network, 32, 3, activation='relu')\n",
        "network = max_pool_2d(network, 2)\n",
        "network = fully_connected(network, 256, activation='relu')\n",
        "network = dropout(network, 0.75)\n",
        "network = fully_connected(network, 256, activation='relu')\n",
        "network = dropout(network, 0.75)\n",
        "network = fully_connected(network, 4, activation='softmax')\n",
        "network = regression(network, optimizer='adam',loss='categorical_crossentropy',learning_rate=0.001)\n"
      ],
      "metadata": {
        "id": "Z7huZ5arKX3m",
        "colab": {
          "base_uri": "https://localhost:8080/"
        },
        "outputId": "5f669e16-4a8f-4b1e-b876-4a3d6bd9fce1"
      },
      "execution_count": null,
      "outputs": [
        {
          "output_type": "stream",
          "name": "stderr",
          "text": [
            "WARNING:tensorflow:From /usr/local/lib/python3.7/dist-packages/tflearn/initializations.py:110: calling UniformUnitScaling.__init__ (from tensorflow.python.ops.init_ops) with dtype is deprecated and will be removed in a future version.\n",
            "Instructions for updating:\n",
            "Call initializer instance with the dtype argument instead of passing it to the constructor\n",
            "WARNING:tensorflow:From /usr/local/lib/python3.7/dist-packages/tensorflow/python/util/deprecation.py:561: UniformUnitScaling.__init__ (from tensorflow.python.ops.init_ops) is deprecated and will be removed in a future version.\n",
            "Instructions for updating:\n",
            "Use tf.initializers.variance_scaling instead with distribution=uniform to get equivalent behavior.\n",
            "WARNING:tensorflow:From /usr/local/lib/python3.7/dist-packages/tflearn/initializations.py:165: calling TruncatedNormal.__init__ (from tensorflow.python.ops.init_ops) with dtype is deprecated and will be removed in a future version.\n",
            "Instructions for updating:\n",
            "Call initializer instance with the dtype argument instead of passing it to the constructor\n",
            "WARNING:tensorflow:From /usr/local/lib/python3.7/dist-packages/tensorflow/python/util/dispatch.py:1082: calling dropout (from tensorflow.python.ops.nn_ops) with keep_prob is deprecated and will be removed in a future version.\n",
            "Instructions for updating:\n",
            "Please use `rate` instead of `keep_prob`. Rate should be set to `rate = 1 - keep_prob`.\n"
          ]
        }
      ]
    },
    {
      "cell_type": "code",
      "source": [
        "# Train using classifier\n",
        "## To Do\n",
        "    ## Define model and assign network\n",
        "    ## Call the fit function for training\n",
        "model = tflearn.DNN(network, tensorboard_verbose=0)\n",
        "\n",
        "\n",
        "model.fit(X_train, y_train, n_epoch=50, shuffle=True, validation_set=(X_test, y_test), show_metric=True, batch_size=64, run_id='vehicleDetection')\n",
        "model.save('/content/drive/MyDrive/MI/training/saved_model3/my_model8') "
      ],
      "metadata": {
        "id": "QoSfkBZqKZSf",
        "colab": {
          "base_uri": "https://localhost:8080/"
        },
        "outputId": "5b49992d-c6eb-4ec3-b42f-14de68995270"
      },
      "execution_count": null,
      "outputs": [
        {
          "output_type": "stream",
          "name": "stdout",
          "text": [
            "Training Step: 3599  | total loss: \u001b[1m\u001b[32m0.05468\u001b[0m\u001b[0m | time: 9.572s\n",
            "| Adam | epoch: 050 | loss: 0.05468 - acc: 0.9819 -- iter: 4544/4552\n",
            "Training Step: 3600  | total loss: \u001b[1m\u001b[32m0.05023\u001b[0m\u001b[0m | time: 10.729s\n",
            "| Adam | epoch: 050 | loss: 0.05023 - acc: 0.9838 | val_loss: 0.42154 - val_acc: 0.9122 -- iter: 4552/4552\n",
            "--\n"
          ]
        }
      ]
    },
    {
      "cell_type": "code",
      "source": [
        "y=y_test.tolist()\n",
        "og=[]\n",
        "for j in y:\n",
        "  m=max(j)\n",
        "  og.append(j.index(m))\n",
        "\n",
        "print(og)"
      ],
      "metadata": {
        "colab": {
          "base_uri": "https://localhost:8080/"
        },
        "id": "Y0Dqq4nbAm8D",
        "outputId": "ff23f63f-ac40-4d5b-85b8-5e1b514f360a"
      },
      "execution_count": null,
      "outputs": [
        {
          "output_type": "stream",
          "name": "stdout",
          "text": [
            "[2, 2, 2, 0, 1, 1, 1, 1, 1, 1, 3, 2, 1, 1, 2, 3, 1, 2, 1, 3, 0, 1, 0, 1, 1, 1, 0, 1, 3, 1, 2, 1, 3, 1, 1, 2, 1, 3, 2, 3, 0, 1, 2, 0, 2, 2, 1, 0, 0, 0, 1, 2, 1, 0, 1, 1, 0, 1, 3, 0, 1, 3, 1, 0, 2, 0, 2, 3, 0, 1, 2, 1, 1, 1, 3, 0, 1, 1, 1, 1, 2, 1, 2, 1, 1, 3, 1, 2, 0, 0, 1, 1, 2, 1, 0, 3, 3, 3, 1, 1, 1, 1, 0, 0, 1, 3, 0, 1, 1, 0, 0, 1, 2, 2, 1, 1, 2, 2, 3, 0, 2, 3, 1, 3, 3, 1, 1, 1, 1, 0, 1, 2, 0, 0, 2, 1, 2, 0, 2, 1, 1, 3, 0, 1, 2, 2, 1, 0, 1, 1, 0, 1, 1, 1, 2, 0, 2, 1, 2, 1, 1, 1, 1, 3, 0, 2, 2, 1, 1, 1, 0, 1, 3, 1, 1, 0, 2, 2, 1, 1, 1, 0, 2, 1, 1, 1, 3, 2, 1, 3, 2, 1, 0, 2, 1, 1, 1, 2, 1, 0, 1, 2, 2, 2, 1, 1, 2, 3, 0, 1, 1, 2, 3, 2, 2, 1, 2, 0, 1, 0, 3, 1, 1, 3, 2, 1, 1, 2, 0, 1, 1, 2, 0, 3, 1, 1, 3, 1, 1, 1, 1, 1, 1, 0, 1, 1, 1, 2, 1, 0, 2, 2, 1, 1, 1, 1, 0, 2, 1, 3, 2, 3, 2, 1, 2, 0, 2, 1, 1, 1, 2, 1, 1, 1, 0, 0, 0, 1, 1, 1, 1, 2, 0, 2, 1, 2, 1, 2, 2, 1, 2, 1, 2, 1, 1, 1, 3, 3, 2, 1, 1, 1, 0, 1, 0, 3, 2, 0, 2, 2, 1, 2, 1, 1, 3, 1, 2, 0, 2, 1, 0, 1, 1, 1, 0, 0, 3, 1, 1, 1, 1, 1, 0, 1, 0, 1, 1, 1, 1, 0, 1, 1, 1, 2, 3, 1, 2, 3, 2, 1, 2, 1, 1, 0, 1, 0, 1, 1, 1, 0, 2, 1, 1, 1, 1, 0, 1, 1, 0, 1, 3, 2, 2, 0, 0, 1, 1, 2, 0, 1, 1, 2, 0, 2, 2, 0, 2, 1, 3, 1, 2, 2, 1, 1, 3, 1, 3, 1, 1, 1, 1, 3, 1, 1, 3, 0, 1, 1, 1, 1, 3, 1, 2, 1, 1, 1, 3, 0, 1, 1, 1, 1, 1, 1, 1, 0, 1, 2, 1, 2, 1, 2, 1, 1, 3, 0, 0, 0, 0, 1, 1, 2, 2, 3, 2, 1, 3, 3, 3, 1, 3, 1, 1, 3, 1, 2, 1, 2, 1, 2, 1, 1, 0, 2, 0, 0, 2, 0, 1, 2, 1, 2, 3, 1, 1, 1, 1, 2, 1, 2, 3, 2, 1, 2, 2, 2, 1, 0, 2, 3, 1, 0, 3, 2, 0, 1, 2, 1, 1, 3, 1, 1, 1, 2, 1, 2, 0, 0, 3, 1, 1, 2, 1, 2, 1, 3, 2, 1, 2, 0, 1, 0, 0, 0, 0, 1, 3, 1, 3, 1, 3, 0, 1, 2, 2, 2, 1, 0, 3, 3, 3, 2, 1, 1, 2, 3, 2, 1, 2, 2, 1, 0, 2, 1, 1, 3, 1, 3, 1, 2, 1, 1, 0, 2, 1, 1, 2, 0, 2, 1, 0, 0, 2, 2, 2, 3, 1, 1, 1, 2, 1, 2, 2, 1, 1, 1, 0, 0, 3, 1, 0, 2, 2, 2, 1, 0, 1, 1, 1, 1, 1, 0, 0, 0, 1, 1, 3, 2, 0, 0, 1, 1, 2, 3, 1, 1, 0, 0, 3, 2, 1, 1, 3, 2, 0, 0, 1, 1, 1, 1, 0, 0, 1, 1, 2, 1, 0, 0, 1, 1, 2, 3, 1, 0, 0, 2, 3, 1, 1, 0, 2, 3, 1, 3, 1, 2, 0, 3, 1, 1, 1, 2, 0, 3, 1, 1, 1, 2, 1, 3, 1, 1, 0, 0, 1, 1, 1, 2, 1, 2, 2, 0, 0, 3, 3, 2, 1, 1, 2, 1, 1, 2, 0, 0, 0, 1, 2, 2, 2, 3, 3, 1, 1, 3, 2, 0, 1, 2, 1, 1, 1, 1, 2, 3, 0, 0, 1, 2, 2, 3, 0, 1, 1, 1, 0, 1, 1, 3, 2, 2, 1, 1, 1, 1, 1, 1, 2, 0, 3, 1, 3, 0, 1, 1, 1, 1, 1, 1, 1, 2, 0, 1, 1, 1, 1, 1, 1, 1, 1, 0, 2, 1, 1, 1, 1, 0, 0, 1, 0, 1, 1, 1, 1, 0, 1, 0, 3, 1, 0, 0, 1, 3, 2, 2, 0, 1, 2, 1, 1, 0, 2, 3, 0, 1, 1, 2, 0, 1, 2, 1, 2, 1, 1, 3, 1, 0, 1, 2, 1, 1, 1, 3, 1, 1, 2, 2, 1, 2, 3, 2, 1, 0, 2, 1, 0, 2, 1, 2, 0, 0, 1, 3, 2, 1, 3, 0, 3, 3, 1, 1, 1, 0, 1, 1, 0, 1, 0, 0, 3, 2, 1, 2, 2, 0, 1, 2, 2, 2, 0, 0, 2, 2, 3, 2, 0, 2, 1, 2, 1, 1, 2, 2, 1, 1, 1, 2, 0, 0, 1, 2, 1, 1, 0, 3, 1, 1, 1, 3, 1, 2, 1, 0, 2, 0, 1, 2, 1, 2, 1, 1, 1, 1, 1, 1, 0, 1, 1, 1, 1, 2, 1, 3, 3, 0, 0, 1, 1, 1, 1, 0, 1, 1, 1, 2, 1, 1, 3, 0, 1, 1, 3, 1, 0, 1, 1, 3, 1, 3, 1, 0, 1, 1, 1, 0, 1, 1, 2, 1, 1, 1, 2, 0, 2, 0, 1, 0, 2, 0, 1, 2, 3, 0, 1, 1, 3, 0, 0, 3, 0, 0, 1, 3, 1, 2, 1, 1, 2, 2, 2, 1, 1, 1, 1, 2, 3, 3, 2, 1, 2, 1, 1, 0, 1, 1, 0, 2, 1, 0, 1, 2, 1, 1, 0, 1, 3, 1, 3, 3, 1, 2, 3, 3, 0, 2, 2, 2, 2, 1, 1, 3, 1, 2, 1, 0, 1, 1, 0, 3, 1, 0, 1, 2, 2, 1, 2, 0, 3, 2, 2, 1, 0, 2, 1, 2, 2, 1, 3, 0, 1, 1, 2, 2, 1, 1, 2, 1, 2, 1, 3, 1, 3, 1, 1, 0, 3, 1, 0, 1, 3, 1, 1, 1, 2, 0, 3, 2, 1, 1, 2, 1, 3, 2, 0, 3, 1, 1, 2, 2, 1, 1, 1, 0, 1, 1, 1, 1, 2, 1, 1, 3, 1, 1, 0, 3, 2, 1, 3, 2, 1, 2, 1, 1, 1, 2, 0, 2, 0, 1, 1, 2, 1, 3, 0, 1, 1, 3, 1, 1, 3, 1, 1, 0, 1, 2, 1, 2, 0, 2, 2]\n"
          ]
        }
      ]
    },
    {
      "cell_type": "code",
      "source": [
        "pred=model.predict(X_test)\n",
        "x=pred.tolist()\n",
        "labels=[]\n",
        "for i in x:\n",
        "  m=max(i)\n",
        "  labels.append(i.index(m))\n",
        "\n",
        "print(labels)"
      ],
      "metadata": {
        "colab": {
          "base_uri": "https://localhost:8080/"
        },
        "id": "aakp3V11_qar",
        "outputId": "7b658223-ff4e-4236-dca8-6dad12a50dbb"
      },
      "execution_count": null,
      "outputs": [
        {
          "output_type": "stream",
          "name": "stdout",
          "text": [
            "[2, 2, 2, 0, 1, 1, 1, 1, 1, 1, 1, 2, 1, 2, 2, 1, 2, 2, 1, 1, 0, 1, 0, 1, 1, 1, 2, 1, 2, 2, 2, 2, 1, 1, 1, 2, 1, 1, 2, 2, 0, 1, 2, 0, 0, 2, 1, 0, 0, 0, 2, 2, 1, 0, 1, 1, 0, 1, 1, 0, 1, 2, 1, 0, 2, 0, 2, 1, 0, 1, 2, 2, 2, 2, 1, 0, 1, 1, 1, 2, 2, 1, 2, 0, 1, 1, 1, 2, 2, 1, 0, 1, 2, 2, 0, 0, 1, 1, 0, 1, 1, 1, 0, 0, 2, 1, 0, 1, 1, 1, 0, 1, 2, 2, 1, 1, 2, 2, 3, 0, 2, 1, 1, 1, 2, 1, 1, 1, 1, 0, 1, 2, 0, 0, 2, 1, 2, 0, 2, 2, 2, 1, 0, 1, 2, 2, 1, 0, 2, 1, 0, 1, 1, 1, 2, 0, 2, 1, 2, 0, 1, 1, 2, 1, 0, 2, 1, 1, 1, 1, 0, 1, 1, 1, 1, 0, 2, 2, 2, 1, 1, 0, 2, 1, 0, 1, 2, 2, 1, 1, 2, 1, 2, 2, 1, 1, 1, 2, 1, 0, 1, 2, 2, 2, 1, 1, 2, 1, 0, 2, 1, 2, 1, 2, 2, 0, 2, 0, 2, 0, 3, 1, 1, 2, 2, 2, 1, 2, 1, 1, 2, 2, 0, 1, 1, 1, 2, 1, 1, 1, 1, 1, 1, 0, 1, 1, 1, 1, 1, 0, 2, 2, 1, 1, 1, 1, 0, 2, 0, 2, 2, 2, 2, 1, 2, 0, 2, 1, 1, 1, 2, 1, 0, 0, 0, 0, 0, 1, 1, 1, 0, 2, 1, 2, 1, 1, 2, 2, 2, 1, 2, 2, 2, 1, 1, 2, 0, 1, 2, 1, 1, 1, 0, 1, 0, 1, 2, 0, 2, 2, 1, 0, 1, 1, 0, 1, 2, 0, 2, 1, 0, 2, 2, 1, 0, 0, 1, 1, 0, 0, 1, 1, 2, 1, 0, 1, 1, 1, 1, 0, 2, 1, 1, 2, 2, 1, 2, 1, 2, 2, 1, 1, 1, 0, 1, 0, 1, 1, 2, 0, 2, 2, 1, 1, 1, 0, 1, 2, 1, 1, 1, 2, 2, 1, 0, 1, 2, 2, 0, 1, 1, 2, 0, 2, 2, 0, 2, 1, 2, 1, 2, 2, 2, 1, 1, 1, 2, 2, 2, 1, 1, 2, 1, 1, 1, 0, 1, 2, 2, 1, 1, 2, 2, 2, 1, 1, 2, 0, 2, 1, 1, 1, 1, 2, 1, 0, 1, 2, 1, 2, 1, 2, 1, 1, 3, 0, 0, 0, 1, 1, 1, 2, 2, 2, 2, 1, 1, 1, 2, 1, 1, 1, 0, 1, 1, 2, 1, 2, 2, 2, 1, 0, 0, 2, 2, 0, 2, 0, 2, 2, 1, 2, 1, 1, 1, 2, 1, 2, 1, 2, 2, 2, 1, 2, 2, 2, 2, 0, 2, 2, 1, 0, 1, 2, 0, 1, 2, 1, 2, 3, 1, 1, 1, 2, 1, 2, 0, 0, 2, 0, 1, 2, 1, 2, 1, 2, 2, 1, 2, 2, 1, 0, 0, 0, 0, 1, 1, 1, 2, 0, 1, 0, 1, 2, 2, 2, 1, 0, 1, 0, 1, 2, 2, 2, 2, 3, 2, 1, 2, 2, 1, 0, 2, 2, 1, 3, 1, 2, 1, 2, 1, 1, 0, 2, 1, 1, 2, 1, 2, 1, 0, 1, 2, 2, 2, 1, 1, 2, 1, 2, 1, 2, 2, 2, 1, 1, 0, 2, 1, 1, 0, 2, 2, 2, 1, 1, 1, 1, 1, 1, 1, 2, 0, 0, 1, 2, 2, 2, 0, 0, 1, 1, 2, 1, 1, 2, 0, 0, 2, 2, 2, 2, 1, 2, 0, 0, 0, 1, 1, 1, 0, 0, 1, 1, 2, 2, 0, 2, 2, 1, 2, 2, 2, 0, 0, 2, 1, 2, 1, 0, 2, 1, 1, 3, 1, 2, 0, 1, 2, 1, 2, 2, 2, 1, 2, 2, 1, 2, 0, 1, 1, 1, 0, 0, 1, 1, 1, 2, 2, 2, 2, 0, 0, 0, 1, 2, 1, 1, 2, 2, 1, 2, 0, 0, 0, 2, 2, 2, 2, 3, 1, 0, 1, 2, 1, 0, 1, 2, 1, 1, 1, 1, 2, 1, 0, 0, 1, 2, 2, 2, 0, 1, 1, 1, 0, 1, 1, 1, 2, 2, 1, 1, 1, 1, 0, 1, 2, 0, 2, 1, 1, 0, 1, 1, 1, 1, 1, 1, 1, 2, 1, 1, 1, 1, 1, 2, 1, 1, 1, 0, 2, 1, 1, 2, 1, 0, 0, 1, 0, 1, 0, 1, 1, 0, 1, 0, 2, 1, 0, 0, 2, 2, 2, 2, 0, 1, 2, 1, 2, 1, 2, 2, 1, 1, 2, 2, 0, 1, 2, 1, 2, 1, 2, 0, 1, 0, 2, 1, 1, 1, 1, 1, 1, 1, 2, 2, 1, 2, 3, 2, 1, 0, 2, 1, 0, 1, 1, 2, 0, 0, 1, 1, 2, 1, 2, 0, 1, 1, 1, 1, 1, 0, 1, 1, 0, 2, 0, 0, 1, 2, 1, 2, 2, 0, 1, 2, 2, 2, 0, 1, 2, 2, 1, 2, 0, 2, 1, 2, 1, 1, 2, 2, 1, 1, 2, 2, 1, 0, 1, 2, 1, 1, 0, 2, 0, 1, 1, 3, 1, 2, 1, 2, 2, 0, 1, 2, 1, 2, 1, 1, 1, 2, 1, 1, 0, 1, 1, 1, 1, 2, 1, 1, 1, 0, 0, 2, 1, 0, 1, 0, 1, 0, 1, 2, 1, 1, 1, 0, 1, 2, 1, 1, 0, 2, 1, 3, 1, 1, 1, 0, 1, 1, 2, 0, 1, 1, 2, 0, 1, 2, 2, 0, 2, 0, 1, 0, 2, 0, 1, 2, 1, 0, 1, 1, 1, 0, 0, 1, 0, 0, 1, 2, 1, 2, 1, 1, 1, 2, 2, 1, 0, 1, 1, 2, 2, 1, 2, 2, 2, 1, 1, 0, 1, 1, 2, 2, 1, 0, 2, 2, 1, 1, 2, 1, 1, 1, 0, 2, 1, 2, 1, 1, 0, 2, 2, 2, 2, 1, 0, 3, 1, 1, 1, 0, 1, 1, 0, 1, 1, 1, 1, 2, 2, 1, 2, 0, 3, 2, 2, 1, 2, 2, 0, 2, 2, 1, 3, 0, 1, 1, 2, 2, 1, 1, 2, 1, 2, 1, 2, 1, 2, 2, 0, 0, 1, 1, 0, 1, 1, 1, 1, 1, 1, 0, 3, 2, 1, 1, 2, 1, 3, 2, 0, 1, 1, 1, 2, 1, 1, 1, 1, 0, 1, 1, 1, 0, 2, 1, 2, 1, 1, 1, 0, 2, 2, 1, 2, 2, 0, 2, 1, 1, 1, 2, 0, 2, 0, 1, 2, 2, 1, 1, 0, 0, 1, 1, 1, 1, 1, 1, 1, 0, 0, 2, 1, 2, 0, 2, 2]\n"
          ]
        }
      ]
    }
  ]
}