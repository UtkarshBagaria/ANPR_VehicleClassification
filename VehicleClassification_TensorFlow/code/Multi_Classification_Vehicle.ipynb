{
 "cells": [
  {
   "cell_type": "code",
   "execution_count": 1,
   "metadata": {},
   "outputs": [],
   "source": [
    "import numpy as np\n",
    "import pandas as pd\n",
    "import matplotlib.pyplot as plt\n",
    "import os\n",
    "from sklearn.metrics import classification_report\n",
    "from sklearn.utils import shuffle\n",
    "import cv2\n",
    "import tensorflow as tf\n",
    "import seaborn as sn; sn.set(font_scale=1.4)"
   ]
  },
  {
   "cell_type": "code",
   "execution_count": 2,
   "metadata": {},
   "outputs": [
    {
     "name": "stdout",
     "output_type": "stream",
     "text": [
      "{'Bicycle': 0, 'Bus': 1, 'Car': 2, 'Motorcycle': 3, 'Truck': 4, 'Van': 5}\n"
     ]
    }
   ],
   "source": [
    "class_names = ['Bicycle', 'Bus', 'Car', 'Motorcycle', 'Truck', 'Van']\n",
    "class_names_label = {class_name: i for i, class_name in enumerate(class_names)} \n",
    "\n",
    "nb_classes = len(class_names)\n",
    "print(class_names_label)\n",
    "IMAGE_SIZE = (150,150)"
   ]
  },
  {
   "cell_type": "code",
   "execution_count": 44,
   "metadata": {},
   "outputs": [],
   "source": [
    "def load_data():\n",
    "    DIR =\"D:/Tanvi/PES/Sem5/302_MI/Project/FinalProject/VehicleClassification_TF/data\"\n",
    "    CATEGORY =['train','test']\n",
    "\n",
    "    output=[]\n",
    "\n",
    "    for cat in CATEGORY:\n",
    "        path = os.path.join(DIR,cat)\n",
    "        images =[]\n",
    "        labels =[]\n",
    "\n",
    "        print(\"Loading{}\".format(cat))\n",
    "\n",
    "        for folder in os.listdir(path):\n",
    "            label = class_names_label[folder]\n",
    "            for file in os.listdir(os.path.join(path,folder)):\n",
    "                img_path = os.path.join(path,folder,file)\n",
    "                \n",
    "                image = cv2.imread(img_path)\n",
    "                image = cv2.cvtColor(image,cv2.COLOR_BGR2RGB)\n",
    "                image = cv2.resize(image,IMAGE_SIZE)\n",
    "                images.append(image)\n",
    "                labels.append(label)\n",
    "        \n",
    "        images = np.array(images, dtype=\"float32\")\n",
    "        labels = np.array(labels, dtype=\"int32\")\n",
    "        output.append((images,labels))\n",
    "    return output"
   ]
  },
  {
   "cell_type": "code",
   "execution_count": 90,
   "metadata": {},
   "outputs": [
    {
     "name": "stdout",
     "output_type": "stream",
     "text": [
      "Loadingtrain\n",
      "Loadingtest\n"
     ]
    }
   ],
   "source": [
    "(train_images, train_labels), (test_images, test_labels) = load_data()"
   ]
  },
  {
   "cell_type": "code",
   "execution_count": 136,
   "metadata": {},
   "outputs": [],
   "source": [
    "train_images, train_labels = shuffle(train_images, train_labels, random_state=82)"
   ]
  },
  {
   "cell_type": "code",
   "execution_count": 137,
   "metadata": {},
   "outputs": [],
   "source": [
    "from tensorflow.keras.models import Sequential\n",
    "from tensorflow.keras.layers import Conv2D, MaxPooling2D, Dense, Flatten, Dropout"
   ]
  },
  {
   "cell_type": "code",
   "execution_count": 138,
   "metadata": {},
   "outputs": [],
   "source": [
    "model = Sequential()"
   ]
  },
  {
   "cell_type": "code",
   "execution_count": 139,
   "metadata": {},
   "outputs": [],
   "source": [
    "model.add(Conv2D(32, (3,3), 1, activation='relu', input_shape=(150,150,3)))\n",
    "model.add(MaxPooling2D(2,2))\n",
    "model.add(Conv2D(64, (3,3), 1, activation='relu'))\n",
    "model.add(MaxPooling2D(2,2))\n",
    "model.add(Conv2D(32, (3,3), 1, activation='relu'))\n",
    "model.add(MaxPooling2D(2,2))\n",
    "model.add(Conv2D(16, (3,3), 1, activation='relu'))\n",
    "model.add(MaxPooling2D(2,2))\n",
    "model.add(Dropout(0.25))\n",
    "model.add(Flatten())\n",
    "model.add(Dense(128, activation=tf.nn.relu))\n",
    "model.add(Dense(6, activation=tf.nn.softmax))"
   ]
  },
  {
   "cell_type": "code",
   "execution_count": 140,
   "metadata": {},
   "outputs": [],
   "source": [
    "model.compile(optimizer='adam', loss='sparse_categorical_crossentropy', metrics=['accuracy'])"
   ]
  },
  {
   "cell_type": "code",
   "execution_count": 141,
   "metadata": {},
   "outputs": [
    {
     "name": "stdout",
     "output_type": "stream",
     "text": [
      "Epoch 1/17\n",
      "271/271 [==============================] - 234s 857ms/step - loss: 2.1398 - accuracy: 0.2533 - val_loss: 1.7389 - val_accuracy: 0.2645\n",
      "Epoch 2/17\n",
      "271/271 [==============================] - 211s 779ms/step - loss: 1.7175 - accuracy: 0.2807 - val_loss: 1.6911 - val_accuracy: 0.2895\n",
      "Epoch 3/17\n",
      "271/271 [==============================] - 190s 702ms/step - loss: 1.5915 - accuracy: 0.3513 - val_loss: 1.4694 - val_accuracy: 0.4021\n",
      "Epoch 4/17\n",
      "271/271 [==============================] - 197s 726ms/step - loss: 1.3885 - accuracy: 0.4411 - val_loss: 1.2459 - val_accuracy: 0.5231\n",
      "Epoch 5/17\n",
      "271/271 [==============================] - 197s 726ms/step - loss: 1.2328 - accuracy: 0.5135 - val_loss: 1.1989 - val_accuracy: 0.5295\n",
      "Epoch 6/17\n",
      "271/271 [==============================] - 177s 652ms/step - loss: 1.1081 - accuracy: 0.5675 - val_loss: 1.0551 - val_accuracy: 0.5882\n",
      "Epoch 7/17\n",
      "271/271 [==============================] - 187s 689ms/step - loss: 1.0159 - accuracy: 0.5993 - val_loss: 1.0044 - val_accuracy: 0.5993\n",
      "Epoch 8/17\n",
      "271/271 [==============================] - 199s 735ms/step - loss: 0.9247 - accuracy: 0.6311 - val_loss: 1.0036 - val_accuracy: 0.6154\n",
      "Epoch 9/17\n",
      "271/271 [==============================] - 184s 677ms/step - loss: 0.8597 - accuracy: 0.6641 - val_loss: 0.9780 - val_accuracy: 0.6168\n",
      "Epoch 10/17\n",
      "271/271 [==============================] - 202s 747ms/step - loss: 0.7981 - accuracy: 0.6886 - val_loss: 0.9651 - val_accuracy: 0.6362\n",
      "Epoch 11/17\n",
      "271/271 [==============================] - 194s 715ms/step - loss: 0.7380 - accuracy: 0.7108 - val_loss: 0.9812 - val_accuracy: 0.6357\n",
      "Epoch 12/17\n",
      "271/271 [==============================] - 184s 679ms/step - loss: 0.7023 - accuracy: 0.7259 - val_loss: 1.0083 - val_accuracy: 0.6339\n",
      "Epoch 13/17\n",
      "271/271 [==============================] - 194s 714ms/step - loss: 0.6563 - accuracy: 0.7464 - val_loss: 1.0079 - val_accuracy: 0.6362\n",
      "Epoch 14/17\n",
      "271/271 [==============================] - 191s 702ms/step - loss: 0.6038 - accuracy: 0.7642 - val_loss: 1.0237 - val_accuracy: 0.6279\n",
      "Epoch 15/17\n",
      "271/271 [==============================] - 192s 709ms/step - loss: 0.5691 - accuracy: 0.7806 - val_loss: 1.0125 - val_accuracy: 0.6482\n",
      "Epoch 16/17\n",
      "271/271 [==============================] - 217s 802ms/step - loss: 0.5460 - accuracy: 0.7886 - val_loss: 1.0418 - val_accuracy: 0.6422\n",
      "Epoch 17/17\n",
      "271/271 [==============================] - 192s 709ms/step - loss: 0.5039 - accuracy: 0.8101 - val_loss: 1.0960 - val_accuracy: 0.6348\n"
     ]
    }
   ],
   "source": [
    "history = model.fit(train_images, train_labels,epochs=17, validation_split=0.2)"
   ]
  },
  {
   "cell_type": "code",
   "execution_count": 158,
   "metadata": {},
   "outputs": [],
   "source": [
    "model.save('D:/Tanvi/PES/Sem5/302_MI/Project/FinalProject/VehicleClassification_TF/model_saved.h5')"
   ]
  },
  {
   "cell_type": "code",
   "execution_count": 159,
   "metadata": {},
   "outputs": [],
   "source": [
    "def plot_accuracy_loss(history):\n",
    "    \n",
    "    plt.figure(figsize=(15,5))\n",
    "    \n",
    "    plt.subplot(221)\n",
    "    plt.plot(history.history['accuracy'], 'bo--', label='acc')\n",
    "    plt.plot(history.history['val_accuracy'], 'ro--', label='val_acc')\n",
    "    plt.title('Train_acc vs Val_acc')\n",
    "    plt.ylabel('Accuracy')\n",
    "    plt.xlabel('Epoch')\n",
    "    plt.legend()\n",
    "\n",
    "    plt.subplot(222)\n",
    "    plt.plot(history.history['loss'],'bo--', label='loss')\n",
    "    plt.plot(history.history['val_loss'],'ro--', label='val_loss')\n",
    "    plt.title('Train_loss vs Val_loss')\n",
    "    plt.ylabel('Loss')\n",
    "    plt.xlabel('Epoch')\n",
    "    plt.legend()\n",
    "    \n",
    "    plt.show()"
   ]
  },
  {
   "cell_type": "code",
   "execution_count": 160,
   "metadata": {},
   "outputs": [
    {
     "data": {
      "image/png": "[encoded data removed]",
      "text/plain": [
       "<Figure size 1080x360 with 2 Axes>"
      ]
     },
     "metadata": {},
     "output_type": "display_data"
    }
   ],
   "source": [
    "plot_accuracy_loss(history)"
   ]
  },
  {
   "cell_type": "code",
   "execution_count": 150,
   "metadata": {},
   "outputs": [
    {
     "name": "stdout",
     "output_type": "stream",
     "text": [
      "11/11 [==============================] - 2s 120ms/step - loss: 0.9143 - accuracy: 0.8297\n"
     ]
    }
   ],
   "source": [
    "test_loss = model.evaluate(test_images, test_labels)"
   ]
  },
  {
   "cell_type": "code",
   "execution_count": 151,
   "metadata": {},
   "outputs": [
    {
     "name": "stdout",
     "output_type": "stream",
     "text": [
      "11/11 [==============================] - 1s 125ms/step\n"
     ]
    }
   ],
   "source": [
    "predictions = model.predict(test_images)\n",
    "pred_labels = np.argmax(predictions, axis=1)"
   ]
  },
  {
   "cell_type": "code",
   "execution_count": 152,
   "metadata": {},
   "outputs": [
    {
     "data": {
      "text/plain": [
       "array([0, 0, 0, 0, 0, 0, 2, 0, 0, 2, 0, 0, 3, 0, 0, 0, 0, 4, 0, 0, 3, 0,\n",
       "       0, 0, 0, 0, 0, 0, 0, 0, 0, 0, 0, 0, 0, 0, 0, 0, 0, 0, 0, 0, 0, 0,\n",
       "       0, 0, 0, 4, 0, 0, 0, 0, 0, 1, 1, 1, 1, 3, 1, 1, 1, 1, 1, 1, 1, 1,\n",
       "       1, 1, 1, 1, 1, 1, 1, 1, 1, 1, 1, 1, 1, 1, 1, 1, 1, 5, 1, 1, 1, 1,\n",
       "       1, 1, 1, 1, 1, 1, 1, 1, 1, 1, 1, 1, 1, 1, 1, 1, 1, 1, 1, 2, 2, 3,\n",
       "       2, 2, 2, 3, 5, 2, 2, 2, 2, 2, 2, 2, 2, 3, 2, 2, 2, 2, 2, 2, 2, 2,\n",
       "       2, 2, 2, 2, 2, 2, 2, 2, 2, 2, 2, 2, 2, 4, 2, 2, 2, 2, 3, 2, 2, 2,\n",
       "       2, 2, 2, 2, 2, 1, 2, 3, 3, 3, 3, 3, 3, 3, 3, 3, 3, 3, 3, 3, 3, 3,\n",
       "       3, 3, 3, 3, 3, 3, 3, 3, 3, 3, 3, 3, 3, 3, 3, 3, 3, 3, 1, 3, 3, 3,\n",
       "       3, 3, 3, 3, 3, 3, 3, 3, 3, 3, 3, 3, 3, 3, 3, 3, 3, 5, 1, 4, 3, 4,\n",
       "       4, 4, 3, 0, 1, 3, 4, 4, 4, 4, 5, 3, 5, 5, 3, 2, 2, 5, 2, 5, 4, 3,\n",
       "       4, 1, 4, 1, 4, 4, 2, 4, 1, 4, 4, 4, 2, 4, 4, 4, 2, 5, 2, 4, 1, 4,\n",
       "       3, 2, 2, 4, 0, 5, 5, 5, 5, 5, 5, 1, 5, 5, 5, 5, 5, 5, 5, 4, 5, 5,\n",
       "       5, 5, 5, 5, 5, 5, 5, 5, 5, 5, 5, 5, 1, 5, 5, 4, 5, 1, 5, 5, 5, 5,\n",
       "       5, 5, 1, 5, 5, 5, 5, 5, 5, 5, 5, 5, 1, 5, 2], dtype=int64)"
      ]
     },
     "execution_count": 152,
     "metadata": {},
     "output_type": "execute_result"
    }
   ],
   "source": [
    "pred_labels"
   ]
  },
  {
   "cell_type": "code",
   "execution_count": 153,
   "metadata": {},
   "outputs": [
    {
     "data": {
      "text/plain": [
       "array([0, 0, 0, 0, 0, 0, 0, 0, 0, 0, 0, 0, 0, 0, 0, 0, 0, 0, 0, 0, 0, 0,\n",
       "       0, 0, 0, 0, 0, 0, 0, 0, 0, 0, 0, 0, 0, 0, 0, 0, 0, 0, 0, 0, 0, 0,\n",
       "       0, 0, 0, 0, 0, 0, 0, 0, 0, 1, 1, 1, 1, 1, 1, 1, 1, 1, 1, 1, 1, 1,\n",
       "       1, 1, 1, 1, 1, 1, 1, 1, 1, 1, 1, 1, 1, 1, 1, 1, 1, 1, 1, 1, 1, 1,\n",
       "       1, 1, 1, 1, 1, 1, 1, 1, 1, 1, 1, 1, 1, 1, 1, 1, 1, 1, 1, 2, 2, 2,\n",
       "       2, 2, 2, 2, 2, 2, 2, 2, 2, 2, 2, 2, 2, 2, 2, 2, 2, 2, 2, 2, 2, 2,\n",
       "       2, 2, 2, 2, 2, 2, 2, 2, 2, 2, 2, 2, 2, 2, 2, 2, 2, 2, 2, 2, 2, 2,\n",
       "       2, 2, 2, 2, 2, 2, 2, 3, 3, 3, 3, 3, 3, 3, 3, 3, 3, 3, 3, 3, 3, 3,\n",
       "       3, 3, 3, 3, 3, 3, 3, 3, 3, 3, 3, 3, 3, 3, 3, 3, 3, 3, 3, 3, 3, 3,\n",
       "       3, 3, 3, 3, 3, 3, 3, 3, 3, 3, 3, 3, 3, 3, 3, 3, 3, 4, 4, 4, 4, 4,\n",
       "       4, 4, 4, 4, 4, 4, 4, 4, 4, 4, 4, 4, 4, 4, 4, 4, 4, 4, 4, 4, 4, 4,\n",
       "       4, 4, 4, 4, 4, 4, 4, 4, 4, 4, 4, 4, 4, 4, 4, 4, 4, 4, 4, 4, 4, 4,\n",
       "       4, 4, 4, 4, 4, 5, 5, 5, 5, 5, 5, 5, 5, 5, 5, 5, 5, 5, 5, 5, 5, 5,\n",
       "       5, 5, 5, 5, 5, 5, 5, 5, 5, 5, 5, 5, 5, 5, 5, 5, 5, 5, 5, 5, 5, 5,\n",
       "       5, 5, 5, 5, 5, 5, 5, 5, 5, 5, 5, 5, 5, 5, 5])"
      ]
     },
     "execution_count": 153,
     "metadata": {},
     "output_type": "execute_result"
    }
   ],
   "source": [
    "test_labels"
   ]
  },
  {
   "cell_type": "code",
   "execution_count": 104,
   "metadata": {},
   "outputs": [
    {
     "name": "stdout",
     "output_type": "stream",
     "text": [
      "              precision    recall  f1-score   support\n",
      "\n",
      "           0       0.96      0.89      0.92        53\n",
      "           1       0.80      0.96      0.87        54\n",
      "           2       0.80      0.87      0.83        54\n",
      "           3       0.79      0.98      0.88        54\n",
      "           4       0.82      0.43      0.56        54\n",
      "           5       0.84      0.85      0.84        54\n",
      "\n",
      "    accuracy                           0.83       323\n",
      "   macro avg       0.83      0.83      0.82       323\n",
      "weighted avg       0.83      0.83      0.82       323\n",
      "\n"
     ]
    }
   ],
   "source": [
    "# print(classification_report(test_labels, pred_labels, target_names=class_names))\n",
    "print(classification_report(test_labels, pred_labels))"
   ]
  }
 ],
 "metadata": {
  "kernelspec": {
   "display_name": "Python 3.9.12 ('base')",
   "language": "python",
   "name": "python3"
  },
  "language_info": {
   "codemirror_mode": {
    "name": "ipython",
    "version": 3
   },
   "file_extension": ".py",
   "mimetype": "text/x-python",
   "name": "python",
   "nbconvert_exporter": "python",
   "pygments_lexer": "ipython3",
   "version": "3.9.12"
  },
  "orig_nbformat": 4,
  "vscode": {
   "interpreter": {
    "hash": "540f15d2e9880d77ef8fca6b3c483a3e682bca59d6b6f0d96b3269bbf265ead0"
   }
  }
 },
 "nbformat": 4,
 "nbformat_minor": 2
}
